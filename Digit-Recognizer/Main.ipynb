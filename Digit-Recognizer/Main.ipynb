{
 "cells": [
  {
   "cell_type": "markdown",
   "metadata": {},
   "source": [
    "# Digit Recognizer (Best result: 0.99157, Rank 997, Top 36%)"
   ]
  },
  {
   "cell_type": "code",
   "execution_count": 1,
   "metadata": {},
   "outputs": [],
   "source": [
    "import sys\n",
    "sys.path.insert(0, '../../Utilities') # https://github.com/LarsNeR/Utilities\n",
    "from Utilities import *"
   ]
  },
  {
   "cell_type": "code",
   "execution_count": 2,
   "metadata": {},
   "outputs": [],
   "source": [
    "import pandas as pd\n",
    "import numpy as np\n",
    "import matplotlib.pyplot as plt\n",
    "from PIL import Image\n",
    "%matplotlib inline"
   ]
  },
  {
   "cell_type": "code",
   "execution_count": 3,
   "metadata": {},
   "outputs": [
    {
     "data": {
      "text/html": [
       "<div>\n",
       "<style scoped>\n",
       "    .dataframe tbody tr th:only-of-type {\n",
       "        vertical-align: middle;\n",
       "    }\n",
       "\n",
       "    .dataframe tbody tr th {\n",
       "        vertical-align: top;\n",
       "    }\n",
       "\n",
       "    .dataframe thead th {\n",
       "        text-align: right;\n",
       "    }\n",
       "</style>\n",
       "<table border=\"1\" class=\"dataframe\">\n",
       "  <thead>\n",
       "    <tr style=\"text-align: right;\">\n",
       "      <th></th>\n",
       "      <th>label</th>\n",
       "      <th>pixel0</th>\n",
       "      <th>pixel1</th>\n",
       "      <th>pixel2</th>\n",
       "      <th>pixel3</th>\n",
       "      <th>pixel4</th>\n",
       "      <th>pixel5</th>\n",
       "      <th>pixel6</th>\n",
       "      <th>pixel7</th>\n",
       "      <th>pixel8</th>\n",
       "      <th>...</th>\n",
       "      <th>pixel774</th>\n",
       "      <th>pixel775</th>\n",
       "      <th>pixel776</th>\n",
       "      <th>pixel777</th>\n",
       "      <th>pixel778</th>\n",
       "      <th>pixel779</th>\n",
       "      <th>pixel780</th>\n",
       "      <th>pixel781</th>\n",
       "      <th>pixel782</th>\n",
       "      <th>pixel783</th>\n",
       "    </tr>\n",
       "  </thead>\n",
       "  <tbody>\n",
       "    <tr>\n",
       "      <th>0</th>\n",
       "      <td>1</td>\n",
       "      <td>0</td>\n",
       "      <td>0</td>\n",
       "      <td>0</td>\n",
       "      <td>0</td>\n",
       "      <td>0</td>\n",
       "      <td>0</td>\n",
       "      <td>0</td>\n",
       "      <td>0</td>\n",
       "      <td>0</td>\n",
       "      <td>...</td>\n",
       "      <td>0</td>\n",
       "      <td>0</td>\n",
       "      <td>0</td>\n",
       "      <td>0</td>\n",
       "      <td>0</td>\n",
       "      <td>0</td>\n",
       "      <td>0</td>\n",
       "      <td>0</td>\n",
       "      <td>0</td>\n",
       "      <td>0</td>\n",
       "    </tr>\n",
       "    <tr>\n",
       "      <th>1</th>\n",
       "      <td>0</td>\n",
       "      <td>0</td>\n",
       "      <td>0</td>\n",
       "      <td>0</td>\n",
       "      <td>0</td>\n",
       "      <td>0</td>\n",
       "      <td>0</td>\n",
       "      <td>0</td>\n",
       "      <td>0</td>\n",
       "      <td>0</td>\n",
       "      <td>...</td>\n",
       "      <td>0</td>\n",
       "      <td>0</td>\n",
       "      <td>0</td>\n",
       "      <td>0</td>\n",
       "      <td>0</td>\n",
       "      <td>0</td>\n",
       "      <td>0</td>\n",
       "      <td>0</td>\n",
       "      <td>0</td>\n",
       "      <td>0</td>\n",
       "    </tr>\n",
       "    <tr>\n",
       "      <th>2</th>\n",
       "      <td>1</td>\n",
       "      <td>0</td>\n",
       "      <td>0</td>\n",
       "      <td>0</td>\n",
       "      <td>0</td>\n",
       "      <td>0</td>\n",
       "      <td>0</td>\n",
       "      <td>0</td>\n",
       "      <td>0</td>\n",
       "      <td>0</td>\n",
       "      <td>...</td>\n",
       "      <td>0</td>\n",
       "      <td>0</td>\n",
       "      <td>0</td>\n",
       "      <td>0</td>\n",
       "      <td>0</td>\n",
       "      <td>0</td>\n",
       "      <td>0</td>\n",
       "      <td>0</td>\n",
       "      <td>0</td>\n",
       "      <td>0</td>\n",
       "    </tr>\n",
       "    <tr>\n",
       "      <th>3</th>\n",
       "      <td>4</td>\n",
       "      <td>0</td>\n",
       "      <td>0</td>\n",
       "      <td>0</td>\n",
       "      <td>0</td>\n",
       "      <td>0</td>\n",
       "      <td>0</td>\n",
       "      <td>0</td>\n",
       "      <td>0</td>\n",
       "      <td>0</td>\n",
       "      <td>...</td>\n",
       "      <td>0</td>\n",
       "      <td>0</td>\n",
       "      <td>0</td>\n",
       "      <td>0</td>\n",
       "      <td>0</td>\n",
       "      <td>0</td>\n",
       "      <td>0</td>\n",
       "      <td>0</td>\n",
       "      <td>0</td>\n",
       "      <td>0</td>\n",
       "    </tr>\n",
       "    <tr>\n",
       "      <th>4</th>\n",
       "      <td>0</td>\n",
       "      <td>0</td>\n",
       "      <td>0</td>\n",
       "      <td>0</td>\n",
       "      <td>0</td>\n",
       "      <td>0</td>\n",
       "      <td>0</td>\n",
       "      <td>0</td>\n",
       "      <td>0</td>\n",
       "      <td>0</td>\n",
       "      <td>...</td>\n",
       "      <td>0</td>\n",
       "      <td>0</td>\n",
       "      <td>0</td>\n",
       "      <td>0</td>\n",
       "      <td>0</td>\n",
       "      <td>0</td>\n",
       "      <td>0</td>\n",
       "      <td>0</td>\n",
       "      <td>0</td>\n",
       "      <td>0</td>\n",
       "    </tr>\n",
       "  </tbody>\n",
       "</table>\n",
       "<p>5 rows × 785 columns</p>\n",
       "</div>"
      ],
      "text/plain": [
       "   label  pixel0  pixel1  pixel2  pixel3  pixel4  pixel5  pixel6  pixel7  \\\n",
       "0      1       0       0       0       0       0       0       0       0   \n",
       "1      0       0       0       0       0       0       0       0       0   \n",
       "2      1       0       0       0       0       0       0       0       0   \n",
       "3      4       0       0       0       0       0       0       0       0   \n",
       "4      0       0       0       0       0       0       0       0       0   \n",
       "\n",
       "   pixel8    ...     pixel774  pixel775  pixel776  pixel777  pixel778  \\\n",
       "0       0    ...            0         0         0         0         0   \n",
       "1       0    ...            0         0         0         0         0   \n",
       "2       0    ...            0         0         0         0         0   \n",
       "3       0    ...            0         0         0         0         0   \n",
       "4       0    ...            0         0         0         0         0   \n",
       "\n",
       "   pixel779  pixel780  pixel781  pixel782  pixel783  \n",
       "0         0         0         0         0         0  \n",
       "1         0         0         0         0         0  \n",
       "2         0         0         0         0         0  \n",
       "3         0         0         0         0         0  \n",
       "4         0         0         0         0         0  \n",
       "\n",
       "[5 rows x 785 columns]"
      ]
     },
     "execution_count": 3,
     "metadata": {},
     "output_type": "execute_result"
    }
   ],
   "source": [
    "df_train = pd.read_csv('./data/train.csv')\n",
    "df_test = pd.read_csv('./data/test.csv')\n",
    "df_train.head()"
   ]
  },
  {
   "cell_type": "code",
   "execution_count": 4,
   "metadata": {},
   "outputs": [
    {
     "data": {
      "text/plain": [
       "<matplotlib.image.AxesImage at 0x1ea43386828>"
      ]
     },
     "execution_count": 4,
     "metadata": {},
     "output_type": "execute_result"
    },
    {
     "data": {
      "image/png": "[encoded data removed]",
      "text/plain": [
       "<Figure size 432x288 with 1 Axes>"
      ]
     },
     "metadata": {
      "needs_background": "light"
     },
     "output_type": "display_data"
    }
   ],
   "source": [
    "first_image = df_train.iloc[0, 1:].values\n",
    "first_image = first_image\n",
    "first_image = np.reshape(first_image, (28,28)).astype(np.uint8)\n",
    "img = Image.fromarray(first_image, 'L')\n",
    "plt.imshow(img, cmap='gray')"
   ]
  },
  {
   "cell_type": "markdown",
   "metadata": {},
   "source": [
    "### Feature Exploration"
   ]
  },
  {
   "cell_type": "code",
   "execution_count": 5,
   "metadata": {},
   "outputs": [
    {
     "name": "stdout",
     "output_type": "stream",
     "text": [
      "Series([], dtype: float64)\n",
      "Series([], dtype: float64)\n"
     ]
    }
   ],
   "source": [
    "print(get_sparsely_filled_columns(df_train, threshold=0))\n",
    "print(get_sparsely_filled_columns(df_test, threshold=0))"
   ]
  },
  {
   "cell_type": "markdown",
   "metadata": {},
   "source": [
    "No NaNs"
   ]
  },
  {
   "cell_type": "markdown",
   "metadata": {},
   "source": [
    "## Preprocessing"
   ]
  },
  {
   "cell_type": "code",
   "execution_count": 6,
   "metadata": {},
   "outputs": [],
   "source": [
    "def preprocess_df(df):\n",
    "    df = df/255\n",
    "    return df"
   ]
  },
  {
   "cell_type": "markdown",
   "metadata": {},
   "source": [
    "## Training"
   ]
  },
  {
   "cell_type": "code",
   "execution_count": 7,
   "metadata": {},
   "outputs": [],
   "source": [
    "from sklearn.model_selection import StratifiedKFold\n",
    "from sklearn.metrics import accuracy_score\n",
    "df_X = df_train.iloc[:, 1:]\n",
    "df = preprocess_df(df_X)\n",
    "X_train = df.values\n",
    "y_train = df_train.iloc[:, 0].values\n",
    "kFold = StratifiedKFold(n_splits=10, shuffle=True)"
   ]
  },
  {
   "cell_type": "code",
   "execution_count": 8,
   "metadata": {},
   "outputs": [],
   "source": [
    "p = {'batch_size': 100,\n",
    "     'epochs': 3,\n",
    "     'dropout': 0.3,\n",
    "     'optimizer': 'rmsprop',\n",
    "     'losses': 'categorical_crossentropy',\n",
    "     '1st_kernel_size': (2,2),\n",
    "     '2nd_kernel_size': (3,3)\n",
    "    }"
   ]
  },
  {
   "cell_type": "markdown",
   "metadata": {},
   "source": [
    "### Keras NN"
   ]
  },
  {
   "cell_type": "code",
   "execution_count": 9,
   "metadata": {},
   "outputs": [
    {
     "name": "stderr",
     "output_type": "stream",
     "text": [
      "Using TensorFlow backend.\n"
     ]
    }
   ],
   "source": [
    "from keras.models import Sequential\n",
    "from keras.layers import Dense\n",
    "from keras.layers import Dropout\n",
    "from keras.utils import to_categorical"
   ]
  },
  {
   "cell_type": "code",
   "execution_count": 10,
   "metadata": {},
   "outputs": [],
   "source": [
    "def train_model_nn(X_train, y_train, params, verbose=0):\n",
    "    clf = Sequential()\n",
    "\n",
    "    clf.add(Dense(units = X_train.shape[1]*2, activation='relu', input_dim = X_train.shape[1]))\n",
    "    clf.add(Dropout(float(params['dropout'])))\n",
    "    \n",
    "    clf.add(Dense(units = int(X_train.shape[1]*1.5), activation='relu'))\n",
    "    clf.add(Dropout(float(params['dropout'])))\n",
    "    \n",
    "    clf.add(Dense(units = 10, activation='softmax'))\n",
    "\n",
    "    clf.compile(optimizer=params['optimizer'], loss=params['losses'], metrics=['accuracy'])\n",
    "\n",
    "    history = clf.fit(X_train, y_train, epochs=int(params['epochs']), batch_size=int(params['batch_size']), verbose=verbose)\n",
    "    return history, clf"
   ]
  },
  {
   "cell_type": "code",
   "execution_count": 11,
   "metadata": {},
   "outputs": [],
   "source": [
    "def cross_validation_nn(X_train, y_train, params):\n",
    "    accs = []\n",
    "    for train, test in kFold.split(X_train, y_train):\n",
    "        y_ohe = to_categorical(y_train, num_classes=10)\n",
    "        _, clf = train_model_nn(X_train[train,:], y_ohe[train,:], params, 1)\n",
    "        y_pred = clf.predict(X_train[test])\n",
    "        accs.append(accuracy_score(np.argmax(y_pred, axis=1), y_train[test]))\n",
    "    print(np.mean(accs))\n",
    "    return train_model_nn(X_train, to_categorical(y_train, num_classes=10), params, 1)"
   ]
  },
  {
   "cell_type": "code",
   "execution_count": 12,
   "metadata": {},
   "outputs": [
    {
     "name": "stdout",
     "output_type": "stream",
     "text": [
      "Epoch 1/3\n",
      "37794/37794 [==============================] - 35s 914us/step - loss: 0.2741 - acc: 0.9178\n",
      "Epoch 2/3\n",
      "37794/37794 [==============================] - 34s 892us/step - loss: 0.1194 - acc: 0.9639\n",
      "Epoch 3/3\n",
      "37794/37794 [==============================] - 34s 901us/step - loss: 0.0926 - acc: 0.9734\n",
      "Epoch 1/3\n",
      "37796/37796 [==============================] - 38s 1000us/step - loss: 0.2698 - acc: 0.9160\n",
      "Epoch 2/3\n",
      "37796/37796 [==============================] - 38s 1ms/step - loss: 0.1189 - acc: 0.9656\n",
      "Epoch 3/3\n",
      "37796/37796 [==============================] - 35s 928us/step - loss: 0.0945 - acc: 0.9734\n",
      "Epoch 1/3\n",
      "37798/37798 [==============================] - 35s 927us/step - loss: 0.2755 - acc: 0.9155\n",
      "Epoch 2/3\n",
      "37798/37798 [==============================] - 35s 918us/step - loss: 0.1228 - acc: 0.9639\n",
      "Epoch 3/3\n",
      "37798/37798 [==============================] - 35s 916us/step - loss: 0.0943 - acc: 0.9726\n",
      "Epoch 1/3\n",
      "37799/37799 [==============================] - 35s 920us/step - loss: 0.2724 - acc: 0.9176\n",
      "Epoch 2/3\n",
      "37799/37799 [==============================] - 35s 924us/step - loss: 0.1205 - acc: 0.9634\n",
      "Epoch 3/3\n",
      "37799/37799 [==============================] - 34s 901us/step - loss: 0.0913 - acc: 0.9732\n",
      "Epoch 1/3\n",
      "37800/37800 [==============================] - 36s 943us/step - loss: 0.2753 - acc: 0.9134\n",
      "Epoch 2/3\n",
      "37800/37800 [==============================] - 34s 905us/step - loss: 0.1238 - acc: 0.9635\n",
      "Epoch 3/3\n",
      "37800/37800 [==============================] - 34s 902us/step - loss: 0.0938 - acc: 0.9729\n",
      "Epoch 1/3\n",
      "37801/37801 [==============================] - 35s 935us/step - loss: 0.2716 - acc: 0.9161\n",
      "Epoch 2/3\n",
      "37801/37801 [==============================] - 34s 913us/step - loss: 0.1206 - acc: 0.9643\n",
      "Epoch 3/3\n",
      "37801/37801 [==============================] - 34s 910us/step - loss: 0.0910 - acc: 0.9740\n",
      "Epoch 1/3\n",
      "37801/37801 [==============================] - 36s 941us/step - loss: 0.2772 - acc: 0.9143\n",
      "Epoch 2/3\n",
      "37801/37801 [==============================] - 34s 909us/step - loss: 0.1262 - acc: 0.9639\n",
      "Epoch 3/3\n",
      "37801/37801 [==============================] - 34s 906us/step - loss: 0.0978 - acc: 0.9728\n",
      "Epoch 1/3\n",
      "37803/37803 [==============================] - 36s 939us/step - loss: 0.2720 - acc: 0.9174\n",
      "Epoch 2/3\n",
      "37803/37803 [==============================] - 34s 910us/step - loss: 0.1200 - acc: 0.9649\n",
      "Epoch 3/3\n",
      "37803/37803 [==============================] - 34s 902us/step - loss: 0.0954 - acc: 0.9728\n",
      "Epoch 1/3\n",
      "37804/37804 [==============================] - 36s 945us/step - loss: 0.2776 - acc: 0.9161\n",
      "Epoch 2/3\n",
      "37804/37804 [==============================] - 34s 910us/step - loss: 0.1226 - acc: 0.9635\n",
      "Epoch 3/3\n",
      "37804/37804 [==============================] - 34s 911us/step - loss: 0.0939 - acc: 0.9736\n",
      "Epoch 1/3\n",
      "37804/37804 [==============================] - 36s 957us/step - loss: 0.2821 - acc: 0.9140\n",
      "Epoch 2/3\n",
      "37804/37804 [==============================] - 35s 922us/step - loss: 0.1225 - acc: 0.9639\n",
      "Epoch 3/3\n",
      "37804/37804 [==============================] - 35s 937us/step - loss: 0.0968 - acc: 0.9725\n",
      "0.9725950862830169\n",
      "Epoch 1/3\n",
      "42000/42000 [==============================] - 41s 965us/step - loss: 0.2552 - acc: 0.9223\n",
      "Epoch 2/3\n",
      "42000/42000 [==============================] - 39s 934us/step - loss: 0.1204 - acc: 0.9644\n",
      "Epoch 3/3\n",
      "42000/42000 [==============================] - 40s 955us/step - loss: 0.0943 - acc: 0.9737\n"
     ]
    }
   ],
   "source": [
    "_, clf_nn = cross_validation_nn(X_train, y_train, p)"
   ]
  },
  {
   "cell_type": "markdown",
   "metadata": {},
   "source": [
    "Accuracy of around 97%"
   ]
  },
  {
   "cell_type": "markdown",
   "metadata": {},
   "source": [
    "### Keras CNN 1D"
   ]
  },
  {
   "cell_type": "code",
   "execution_count": 13,
   "metadata": {},
   "outputs": [],
   "source": [
    "from keras.models import Sequential\n",
    "from keras.layers import Dense, Conv1D, MaxPooling1D, GlobalAveragePooling1D\n",
    "from keras.layers import Dropout\n",
    "from keras.utils import to_categorical"
   ]
  },
  {
   "cell_type": "code",
   "execution_count": 14,
   "metadata": {},
   "outputs": [],
   "source": [
    "def train_model_cnn(X_train, y_train, params, verbose=0):\n",
    "    clf = Sequential()\n",
    "    \n",
    "    clf.add(Conv1D(56, 3, activation='relu', input_shape=(X_train.shape[1],1)))\n",
    "    clf.add(Conv1D(56, 3, activation='relu'))\n",
    "    clf.add(MaxPooling1D(3))\n",
    "    \n",
    "    clf.add(Conv1D(112, 3, activation='relu'))\n",
    "    clf.add(Conv1D(112, 3, activation='relu'))\n",
    "    clf.add(GlobalAveragePooling1D())\n",
    "    \n",
    "    clf.add(Dropout(float(params['dropout'])))\n",
    "    \n",
    "    clf.add(Dense(units = 10, activation='softmax'))    \n",
    "\n",
    "    clf.compile(optimizer=params['optimizer'], loss=params['losses'], metrics=['accuracy'])\n",
    "\n",
    "    history = clf.fit(X_train, y_train, epochs=int(params['epochs']), batch_size=int(params['batch_size']), verbose=verbose)\n",
    "    return history, clf"
   ]
  },
  {
   "cell_type": "code",
   "execution_count": 15,
   "metadata": {},
   "outputs": [],
   "source": [
    "def cross_validation_cnn(X_train, y_train, params):\n",
    "    accs = []\n",
    "    X_train = np.reshape(X_train, (X_train.shape[0], X_train.shape[1], 1))\n",
    "    for train, test in kFold.split(X_train, y_train):\n",
    "        y_ohe = to_categorical(y_train, num_classes=10)\n",
    "        _, clf = train_model_cnn(X_train[train,:], y_ohe[train,:], params, 1)\n",
    "        y_pred = clf.predict(X_train[test])\n",
    "        accs.append(accuracy_score(np.argmax(y_pred, axis=1), y_train[test]))\n",
    "    print(np.mean(accs))\n",
    "    return train_model_cnn(X_train, to_categorical(y_train, num_classes=10), params, 1)"
   ]
  },
  {
   "cell_type": "code",
   "execution_count": 16,
   "metadata": {},
   "outputs": [
    {
     "name": "stdout",
     "output_type": "stream",
     "text": [
      "Epoch 1/3\n",
      "37794/37794 [==============================] - 233s 6ms/step - loss: 2.0488 - acc: 0.2485\n",
      "Epoch 2/3\n",
      "37794/37794 [==============================] - 233s 6ms/step - loss: 1.6686 - acc: 0.3976\n",
      "Epoch 3/3\n",
      "37794/37794 [==============================] - 216s 6ms/step - loss: 1.4929 - acc: 0.4714\n",
      "Epoch 1/3\n",
      "37796/37796 [==============================] - 207s 5ms/step - loss: 2.0176 - acc: 0.2600\n",
      "Epoch 2/3\n",
      "37796/37796 [==============================] - 208s 6ms/step - loss: 1.6322 - acc: 0.4107\n",
      "Epoch 3/3\n",
      "37796/37796 [==============================] - 207s 5ms/step - loss: 1.4630 - acc: 0.4876\n",
      "Epoch 1/3\n",
      "37798/37798 [==============================] - 208s 6ms/step - loss: 2.0490 - acc: 0.2497\n",
      "Epoch 2/3\n",
      "37798/37798 [==============================] - 206s 5ms/step - loss: 1.6901 - acc: 0.3868\n",
      "Epoch 3/3\n",
      "37798/37798 [==============================] - 207s 5ms/step - loss: 1.5079 - acc: 0.4650\n",
      "Epoch 1/3\n",
      "37799/37799 [==============================] - 209s 6ms/step - loss: 2.0419 - acc: 0.2509\n",
      "Epoch 2/3\n",
      "37799/37799 [==============================] - 208s 5ms/step - loss: 1.6278 - acc: 0.4125\n",
      "Epoch 3/3\n",
      "37799/37799 [==============================] - 208s 6ms/step - loss: 1.4648 - acc: 0.4880\n",
      "Epoch 1/3\n",
      "37800/37800 [==============================] - 213s 6ms/step - loss: 2.0120 - acc: 0.2656\n",
      "Epoch 2/3\n",
      "37800/37800 [==============================] - 231s 6ms/step - loss: 1.6307 - acc: 0.4143\n",
      "Epoch 3/3\n",
      "37800/37800 [==============================] - 208s 6ms/step - loss: 1.4585 - acc: 0.4860\n",
      "Epoch 1/3\n",
      "37801/37801 [==============================] - 212s 6ms/step - loss: 2.0292 - acc: 0.2515\n",
      "Epoch 2/3\n",
      "37801/37801 [==============================] - 210s 6ms/step - loss: 1.6614 - acc: 0.3939\n",
      "Epoch 3/3\n",
      "37801/37801 [==============================] - 211s 6ms/step - loss: 1.4932 - acc: 0.4706\n",
      "Epoch 1/3\n",
      "37801/37801 [==============================] - 213s 6ms/step - loss: 2.0361 - acc: 0.2562\n",
      "Epoch 2/3\n",
      "37801/37801 [==============================] - 215s 6ms/step - loss: 1.6546 - acc: 0.4014\n",
      "Epoch 3/3\n",
      "37801/37801 [==============================] - 211s 6ms/step - loss: 1.4687 - acc: 0.4822\n",
      "Epoch 1/3\n",
      "37803/37803 [==============================] - 212s 6ms/step - loss: 2.0139 - acc: 0.2626\n",
      "Epoch 2/3\n",
      "37803/37803 [==============================] - 218s 6ms/step - loss: 1.6430 - acc: 0.4097\n",
      "Epoch 3/3\n",
      "37803/37803 [==============================] - 217s 6ms/step - loss: 1.4760 - acc: 0.4818\n",
      "Epoch 1/3\n",
      "37804/37804 [==============================] - 220s 6ms/step - loss: 2.0382 - acc: 0.2570\n",
      "Epoch 2/3\n",
      "37804/37804 [==============================] - 218s 6ms/step - loss: 1.6688 - acc: 0.3960\n",
      "Epoch 3/3\n",
      "37804/37804 [==============================] - 222s 6ms/step - loss: 1.4999 - acc: 0.4702\n",
      "Epoch 1/3\n",
      "37804/37804 [==============================] - 230s 6ms/step - loss: 2.0247 - acc: 0.2569\n",
      "Epoch 2/3\n",
      "37804/37804 [==============================] - 219s 6ms/step - loss: 1.6836 - acc: 0.3822\n",
      "Epoch 3/3\n",
      "37804/37804 [==============================] - 227s 6ms/step - loss: 1.5249 - acc: 0.4509\n",
      "0.49787170773240896\n",
      "Epoch 1/3\n",
      "42000/42000 [==============================] - 249s 6ms/step - loss: 1.9877 - acc: 0.2734\n",
      "Epoch 2/3\n",
      "42000/42000 [==============================] - 244s 6ms/step - loss: 1.6018 - acc: 0.4262\n",
      "Epoch 3/3\n",
      "42000/42000 [==============================] - 250s 6ms/step - loss: 1.4377 - acc: 0.4999\n"
     ]
    }
   ],
   "source": [
    "_, clf_cnn = cross_validation_cnn(X_train, y_train, p)"
   ]
  },
  {
   "cell_type": "markdown",
   "metadata": {},
   "source": [
    "Accuracy of around 50% "
   ]
  },
  {
   "cell_type": "markdown",
   "metadata": {},
   "source": [
    "### Keras CNN 2D"
   ]
  },
  {
   "cell_type": "code",
   "execution_count": 12,
   "metadata": {},
   "outputs": [],
   "source": [
    "from keras.models import Sequential\n",
    "from keras.layers import Dense, Conv2D, Flatten, MaxPool2D\n",
    "from keras.layers import Dropout\n",
    "from keras.utils import to_categorical\n",
    "\n",
    "def train_model_cnn2d(X_train, y_train, X_val, y_val, params, verbose=0):\n",
    "    clf = Sequential()\n",
    "\n",
    "    clf.add(Conv2D(filters = 32, kernel_size = params['1st_kernel_size'], activation ='relu', input_shape = (28,28,1)))\n",
    "    clf.add(Conv2D(filters = 32, kernel_size = params['1st_kernel_size'], activation ='relu'))\n",
    "    clf.add(MaxPool2D(pool_size=(2,2)))\n",
    "    clf.add(Dropout(float(params['dropout'])))\n",
    "\n",
    "    clf.add(Conv2D(filters = 64, kernel_size = params['2nd_kernel_size'], activation ='relu'))\n",
    "    clf.add(Conv2D(filters = 64, kernel_size = params['2nd_kernel_size'], activation ='relu'))\n",
    "    clf.add(MaxPool2D(pool_size=(2,2), strides=(2,2)))\n",
    "    clf.add(Dropout(float(params['dropout'])))\n",
    "\n",
    "    clf.add(Flatten())\n",
    "    clf.add(Dense(256, activation = \"relu\"))\n",
    "    clf.add(Dropout(float(params['dropout'])))\n",
    "    clf.add(Dense(10, activation = \"softmax\"))\n",
    "    \n",
    "    clf.compile(optimizer=params['optimizer'], loss=params['losses'], metrics=[\"accuracy\"])\n",
    "    history = clf.fit(X_train, y_train, epochs=int(params['epochs']), batch_size=int(params['batch_size']), verbose=verbose)\n",
    "    return history, clf\n",
    "\n",
    "def cross_validation_cnn2d(X_train, y_train, params):\n",
    "    accs = []\n",
    "    X_train = np.reshape(X_train, (-1, 28, 28, 1))\n",
    "    for train, test in kFold.split(X_train, y_train):\n",
    "        y_ohe = to_categorical(y_train, num_classes=10)\n",
    "        _, clf = train_model_cnn2d(X_train[train,:], y_ohe[train,:], None, None, params, 1)\n",
    "        y_pred = clf.predict(X_train[test])\n",
    "        accs.append(accuracy_score(np.argmax(y_pred, axis=1), y_train[test]))\n",
    "    print(np.mean(accs))\n",
    "    return train_model_cnn2d(X_train, to_categorical(y_train, num_classes=10), None, None, params, 1)"
   ]
  },
  {
   "cell_type": "code",
   "execution_count": 13,
   "metadata": {},
   "outputs": [
    {
     "name": "stdout",
     "output_type": "stream",
     "text": [
      "Epoch 1/3\n",
      "37794/37794 [==============================] - 126s 3ms/step - loss: 0.2706 - acc: 0.9119\n",
      "Epoch 2/3\n",
      "37794/37794 [==============================] - 109s 3ms/step - loss: 0.0799 - acc: 0.9751\n",
      "Epoch 3/3\n",
      "37794/37794 [==============================] - 140s 4ms/step - loss: 0.0591 - acc: 0.9815\n",
      "Epoch 1/3\n",
      "37796/37796 [==============================] - 138s 4ms/step - loss: 0.2754 - acc: 0.9117\n",
      "Epoch 2/3\n",
      "37796/37796 [==============================] - 138s 4ms/step - loss: 0.0883 - acc: 0.9729\n",
      "Epoch 3/3\n",
      "37796/37796 [==============================] - 127s 3ms/step - loss: 0.0641 - acc: 0.9801\n",
      "Epoch 1/3\n",
      "37798/37798 [==============================] - 121s 3ms/step - loss: 0.2769 - acc: 0.9116\n",
      "Epoch 2/3\n",
      "37798/37798 [==============================] - 127s 3ms/step - loss: 0.0871 - acc: 0.9737\n",
      "Epoch 3/3\n",
      "37798/37798 [==============================] - 134s 4ms/step - loss: 0.0603 - acc: 0.9811\n",
      "Epoch 1/3\n",
      "37799/37799 [==============================] - 139s 4ms/step - loss: 0.2767 - acc: 0.9119\n",
      "Epoch 2/3\n",
      "37799/37799 [==============================] - 135s 4ms/step - loss: 0.0851 - acc: 0.9736\n",
      "Epoch 3/3\n",
      "37799/37799 [==============================] - 154s 4ms/step - loss: 0.0611 - acc: 0.9809\n",
      "Epoch 1/3\n",
      "37800/37800 [==============================] - 148s 4ms/step - loss: 0.2701 - acc: 0.9131\n",
      "Epoch 2/3\n",
      "37800/37800 [==============================] - 134s 4ms/step - loss: 0.0856 - acc: 0.9727\n",
      "Epoch 3/3\n",
      "37800/37800 [==============================] - 130s 3ms/step - loss: 0.0602 - acc: 0.9813\n",
      "Epoch 1/3\n",
      "37801/37801 [==============================] - 127s 3ms/step - loss: 0.2743 - acc: 0.9129\n",
      "Epoch 2/3\n",
      "37801/37801 [==============================] - 119s 3ms/step - loss: 0.0849 - acc: 0.9741\n",
      "Epoch 3/3\n",
      "37801/37801 [==============================] - 116s 3ms/step - loss: 0.0621 - acc: 0.9815\n",
      "Epoch 1/3\n",
      "37801/37801 [==============================] - 141s 4ms/step - loss: 0.2700 - acc: 0.9152\n",
      "Epoch 2/3\n",
      "37801/37801 [==============================] - 145s 4ms/step - loss: 0.0870 - acc: 0.9736\n",
      "Epoch 3/3\n",
      "37801/37801 [==============================] - 121s 3ms/step - loss: 0.0616 - acc: 0.9802\n",
      "Epoch 1/3\n",
      "37803/37803 [==============================] - 125s 3ms/step - loss: 0.2735 - acc: 0.9124\n",
      "Epoch 2/3\n",
      "37803/37803 [==============================] - 120s 3ms/step - loss: 0.0841 - acc: 0.9733\n",
      "Epoch 3/3\n",
      "37803/37803 [==============================] - 120s 3ms/step - loss: 0.0603 - acc: 0.9813\n",
      "Epoch 1/3\n",
      "37804/37804 [==============================] - 123s 3ms/step - loss: 0.2744 - acc: 0.9119\n",
      "Epoch 2/3\n",
      "37804/37804 [==============================] - 122s 3ms/step - loss: 0.0842 - acc: 0.9739\n",
      "Epoch 3/3\n",
      "37804/37804 [==============================] - 124s 3ms/step - loss: 0.0617 - acc: 0.9806\n",
      "Epoch 1/3\n",
      "37804/37804 [==============================] - 123s 3ms/step - loss: 0.2717 - acc: 0.9134\n",
      "Epoch 2/3\n",
      "37804/37804 [==============================] - 121s 3ms/step - loss: 0.0825 - acc: 0.9738\n",
      "Epoch 3/3\n",
      "37804/37804 [==============================] - 122s 3ms/step - loss: 0.0609 - acc: 0.9811\n",
      "0.9869518125015834\n",
      "Epoch 1/3\n",
      "42000/42000 [==============================] - 136s 3ms/step - loss: 0.2564 - acc: 0.9192\n",
      "Epoch 2/3\n",
      "42000/42000 [==============================] - 130s 3ms/step - loss: 0.0822 - acc: 0.9744\n",
      "Epoch 3/3\n",
      "42000/42000 [==============================] - 127s 3ms/step - loss: 0.0596 - acc: 0.9810\n"
     ]
    }
   ],
   "source": [
    "_, clf_cnn2d = cross_validation_cnn2d(X_train, y_train, p)"
   ]
  },
  {
   "cell_type": "markdown",
   "metadata": {},
   "source": [
    "Accuracy of around 98%"
   ]
  },
  {
   "cell_type": "markdown",
   "metadata": {},
   "source": [
    "## Predicting"
   ]
  },
  {
   "cell_type": "markdown",
   "metadata": {},
   "source": [
    "Train all 3 models on whole dataset and then convert it to kaggle submission csv"
   ]
  },
  {
   "cell_type": "code",
   "execution_count": null,
   "metadata": {},
   "outputs": [],
   "source": [
    "df_test = pd.read_csv('./data/test.csv')\n",
    "df_result = pd.DataFrame({'ImageId': np.arange(1, df_test.shape[0]+1)})\n",
    "df = preprocess_df(df_test)\n",
    "X_test = df.values\n",
    "\n",
    "df_result['Label'] = np.argmax(clf_nn.predict(X_test), axis=1)\n",
    "df_result.to_csv('./data/result_nn.csv', index=False)\n",
    "\n",
    "X_test = np.reshape(X_test, (X_test.shape[0], X_test.shape[1], 1))\n",
    "df_result['Label'] = np.argmax(clf_cnn.predict(X_test), axis=1)\n",
    "df_result.to_csv('./data/result_cnn.csv', index=False)\n",
    "\n",
    "X_test = np.reshape(X_test, (-1, 28, 28, 1))\n",
    "df_result['Label'] = np.argmax(clf_cnn2d.predict(X_test), axis=1)\n",
    "df_result.to_csv('./data/result_cnn2d.csv', index=False)"
   ]
  },
  {
   "cell_type": "markdown",
   "metadata": {},
   "source": [
    "#### Submitting them to Kaggle gave following results\n",
    "- NN: 0.9660 (Rank 2161)\n",
    "- CNN: 0.5862 (Rank ?)\n",
    "- CNN-2D: 0.9874 (Rank 1326)"
   ]
  },
  {
   "cell_type": "markdown",
   "metadata": {},
   "source": [
    "### Hyperparameter-Tuning"
   ]
  },
  {
   "cell_type": "markdown",
   "metadata": {},
   "source": [
    "CNN-2D gave best results so I'm trying to improve it with hyperparameter-tuning. I'm trying talos with some downsampling because the runs take quite long."
   ]
  },
  {
   "cell_type": "code",
   "execution_count": null,
   "metadata": {},
   "outputs": [],
   "source": [
    "import talos as ta"
   ]
  },
  {
   "cell_type": "code",
   "execution_count": null,
   "metadata": {},
   "outputs": [],
   "source": [
    "p = {'batch_size': [50],\n",
    "     'epochs': [4],\n",
    "     'dropout': [0.1, 0.3, 0.5, 0.7],\n",
    "     'optimizer': ['rmsprop', 'nadam'],\n",
    "     'losses': ['categorical_crossentropy'],\n",
    "     '1st_kernel_size': [(2,2), (3,3)],\n",
    "     '2nd_kernel_size': [(3,3), (4,4)]\n",
    "    }"
   ]
  },
  {
   "cell_type": "code",
   "execution_count": null,
   "metadata": {},
   "outputs": [],
   "source": [
    "X_train = np.reshape(X_train, (-1, 28, 28, 1))\n",
    "y_ohe = to_categorical(y_train, num_classes=10)\n",
    "h = ta.Scan(X_train, y_ohe,\n",
    "          params=p,\n",
    "          dataset_name='Digit Recognizer',\n",
    "          experiment_no='1',\n",
    "          model=train_model_cnn2d,\n",
    "          grid_downsample=0.5)"
   ]
  },
  {
   "cell_type": "code",
   "execution_count": null,
   "metadata": {},
   "outputs": [],
   "source": [
    "ta.Reporting(t).data"
   ]
  },
  {
   "cell_type": "markdown",
   "metadata": {},
   "source": [
    "Best parameters:\n",
    "\n",
    "{'dropout': 0.1, 'optimizer': 'rmsprop', '1st_kernel_size': (3,3), '2nd_kernel_size': (4,4)}\n",
    "\n",
    "Accuracy: 0.9907139\n"
   ]
  },
  {
   "cell_type": "markdown",
   "metadata": {},
   "source": [
    "## Final run of CNN-2D with these parameters"
   ]
  },
  {
   "cell_type": "code",
   "execution_count": null,
   "metadata": {},
   "outputs": [],
   "source": [
    "p = {'batch_size': 50,\n",
    "     'epochs': 6,\n",
    "     'dropout': 0.1,\n",
    "     'optimizer': 'rmsprop',\n",
    "     'losses': 'categorical_crossentropy',\n",
    "     '1st_kernel_size': (3,3),\n",
    "     '2nd_kernel_size': (4,4)\n",
    "    }\n",
    "X_train = np.reshape(X_train, (-1, 28, 28, 1))\n",
    "y_ohe = to_categorical(y_train, num_classes=10)\n",
    "_, clf_final = train_model_cnn2d(X_train, y_ohe,_, _, p,verbose=1)"
   ]
  },
  {
   "cell_type": "code",
   "execution_count": null,
   "metadata": {},
   "outputs": [],
   "source": [
    "df_test = pd.read_csv('./data/test.csv')\n",
    "df_result = pd.DataFrame({'ImageId': np.arange(1, df_test.shape[0]+1)})\n",
    "df = preprocess_df(df_test)\n",
    "X_test = df.values\n",
    "X_test = np.reshape(X_test, (-1, 28, 28, 1))\n",
    "df_result['Label'] = np.argmax(clf_final.predict(X_test), axis=1)\n",
    "df_result.to_csv('./data/result_final.csv', index=False)"
   ]
  },
  {
   "cell_type": "markdown",
   "metadata": {},
   "source": [
    "Gives a result of 0.99157 (Rank 997)"
   ]
  },
  {
   "cell_type": "markdown",
   "metadata": {},
   "source": [
    "## Notes/What can improve the model\n",
    "- Augmentation of new images\n",
    "- More epochs, lower batch_size\n",
    "- Different network structure"
   ]
  },
  {
   "cell_type": "markdown",
   "metadata": {},
   "source": [
    "## Final Python Code"
   ]
  },
  {
   "cell_type": "markdown",
   "metadata": {},
   "source": [
    "You can find the final python code in src/Main.py"
   ]
  }
 ],
 "metadata": {
  "kernelspec": {
   "display_name": "Python 3",
   "language": "python",
   "name": "python3"
  },
  "language_info": {
   "codemirror_mode": {
    "name": "ipython",
    "version": 3
   },
   "file_extension": ".py",
   "mimetype": "text/x-python",
   "name": "python",
   "nbconvert_exporter": "python",
   "pygments_lexer": "ipython3",
   "version": "3.6.7"
  }
 },
 "nbformat": 4,
 "nbformat_minor": 2
}
